{
 "cells": [
  {
   "cell_type": "code",
   "execution_count": 9,
   "metadata": {},
   "outputs": [],
   "source": [
    "import pandas as pd"
   ]
  },
  {
   "cell_type": "code",
   "execution_count": 10,
   "metadata": {},
   "outputs": [],
   "source": [
    "data = pd.read_csv(\"data/SPY.csv\")"
   ]
  },
  {
   "cell_type": "code",
   "execution_count": 11,
   "metadata": {},
   "outputs": [],
   "source": [
    "def simple_moving_average(df, time_period):\n",
    "    label = f\"SMA_{time_period}\"\n",
    "    df[label] = df[\"Close\"].rolling(window=time_period).mean()\n",
    "    return df"
   ]
  },
  {
   "cell_type": "code",
   "execution_count": 12,
   "metadata": {},
   "outputs": [
    {
     "data": {
      "text/html": [
       "<div>\n",
       "<style scoped>\n",
       "    .dataframe tbody tr th:only-of-type {\n",
       "        vertical-align: middle;\n",
       "    }\n",
       "\n",
       "    .dataframe tbody tr th {\n",
       "        vertical-align: top;\n",
       "    }\n",
       "\n",
       "    .dataframe thead th {\n",
       "        text-align: right;\n",
       "    }\n",
       "</style>\n",
       "<table border=\"1\" class=\"dataframe\">\n",
       "  <thead>\n",
       "    <tr style=\"text-align: right;\">\n",
       "      <th></th>\n",
       "      <th>Date</th>\n",
       "      <th>Open</th>\n",
       "      <th>High</th>\n",
       "      <th>Low</th>\n",
       "      <th>Close</th>\n",
       "      <th>Volume</th>\n",
       "      <th>Dividends</th>\n",
       "      <th>Stock Splits</th>\n",
       "      <th>Capital Gains</th>\n",
       "    </tr>\n",
       "  </thead>\n",
       "  <tbody>\n",
       "    <tr>\n",
       "      <th>7980</th>\n",
       "      <td>2024-10-09 00:00:00-04:00</td>\n",
       "      <td>573.159973</td>\n",
       "      <td>577.710022</td>\n",
       "      <td>572.549988</td>\n",
       "      <td>577.140015</td>\n",
       "      <td>37912200</td>\n",
       "      <td>0.0</td>\n",
       "      <td>0.0</td>\n",
       "      <td>0.0</td>\n",
       "    </tr>\n",
       "    <tr>\n",
       "      <th>7981</th>\n",
       "      <td>2024-10-10 00:00:00-04:00</td>\n",
       "      <td>575.770020</td>\n",
       "      <td>577.580017</td>\n",
       "      <td>574.489990</td>\n",
       "      <td>576.130005</td>\n",
       "      <td>44138100</td>\n",
       "      <td>0.0</td>\n",
       "      <td>0.0</td>\n",
       "      <td>0.0</td>\n",
       "    </tr>\n",
       "    <tr>\n",
       "      <th>7982</th>\n",
       "      <td>2024-10-11 00:00:00-04:00</td>\n",
       "      <td>576.049988</td>\n",
       "      <td>580.330017</td>\n",
       "      <td>575.909973</td>\n",
       "      <td>579.580017</td>\n",
       "      <td>42226800</td>\n",
       "      <td>0.0</td>\n",
       "      <td>0.0</td>\n",
       "      <td>0.0</td>\n",
       "    </tr>\n",
       "  </tbody>\n",
       "</table>\n",
       "</div>"
      ],
      "text/plain": [
       "                           Date        Open        High         Low  \\\n",
       "7980  2024-10-09 00:00:00-04:00  573.159973  577.710022  572.549988   \n",
       "7981  2024-10-10 00:00:00-04:00  575.770020  577.580017  574.489990   \n",
       "7982  2024-10-11 00:00:00-04:00  576.049988  580.330017  575.909973   \n",
       "\n",
       "           Close    Volume  Dividends  Stock Splits  Capital Gains  \n",
       "7980  577.140015  37912200        0.0           0.0            0.0  \n",
       "7981  576.130005  44138100        0.0           0.0            0.0  \n",
       "7982  579.580017  42226800        0.0           0.0            0.0  "
      ]
     },
     "execution_count": 12,
     "metadata": {},
     "output_type": "execute_result"
    }
   ],
   "source": [
    "data.tail(3)"
   ]
  },
  {
   "cell_type": "code",
   "execution_count": 13,
   "metadata": {},
   "outputs": [
    {
     "data": {
      "text/html": [
       "<div>\n",
       "<style scoped>\n",
       "    .dataframe tbody tr th:only-of-type {\n",
       "        vertical-align: middle;\n",
       "    }\n",
       "\n",
       "    .dataframe tbody tr th {\n",
       "        vertical-align: top;\n",
       "    }\n",
       "\n",
       "    .dataframe thead th {\n",
       "        text-align: right;\n",
       "    }\n",
       "</style>\n",
       "<table border=\"1\" class=\"dataframe\">\n",
       "  <thead>\n",
       "    <tr style=\"text-align: right;\">\n",
       "      <th></th>\n",
       "      <th>Date</th>\n",
       "      <th>Open</th>\n",
       "      <th>High</th>\n",
       "      <th>Low</th>\n",
       "      <th>Close</th>\n",
       "      <th>Volume</th>\n",
       "      <th>Dividends</th>\n",
       "      <th>Stock Splits</th>\n",
       "      <th>Capital Gains</th>\n",
       "      <th>SMA_20</th>\n",
       "    </tr>\n",
       "  </thead>\n",
       "  <tbody>\n",
       "    <tr>\n",
       "      <th>7980</th>\n",
       "      <td>2024-10-09 00:00:00-04:00</td>\n",
       "      <td>573.159973</td>\n",
       "      <td>577.710022</td>\n",
       "      <td>572.549988</td>\n",
       "      <td>577.140015</td>\n",
       "      <td>37912200</td>\n",
       "      <td>0.0</td>\n",
       "      <td>0.0</td>\n",
       "      <td>0.0</td>\n",
       "      <td>568.111807</td>\n",
       "    </tr>\n",
       "    <tr>\n",
       "      <th>7981</th>\n",
       "      <td>2024-10-10 00:00:00-04:00</td>\n",
       "      <td>575.770020</td>\n",
       "      <td>577.580017</td>\n",
       "      <td>574.489990</td>\n",
       "      <td>576.130005</td>\n",
       "      <td>44138100</td>\n",
       "      <td>0.0</td>\n",
       "      <td>0.0</td>\n",
       "      <td>0.0</td>\n",
       "      <td>569.049289</td>\n",
       "    </tr>\n",
       "    <tr>\n",
       "      <th>7982</th>\n",
       "      <td>2024-10-11 00:00:00-04:00</td>\n",
       "      <td>576.049988</td>\n",
       "      <td>580.330017</td>\n",
       "      <td>575.909973</td>\n",
       "      <td>579.580017</td>\n",
       "      <td>42226800</td>\n",
       "      <td>0.0</td>\n",
       "      <td>0.0</td>\n",
       "      <td>0.0</td>\n",
       "      <td>570.013718</td>\n",
       "    </tr>\n",
       "  </tbody>\n",
       "</table>\n",
       "</div>"
      ],
      "text/plain": [
       "                           Date        Open        High         Low  \\\n",
       "7980  2024-10-09 00:00:00-04:00  573.159973  577.710022  572.549988   \n",
       "7981  2024-10-10 00:00:00-04:00  575.770020  577.580017  574.489990   \n",
       "7982  2024-10-11 00:00:00-04:00  576.049988  580.330017  575.909973   \n",
       "\n",
       "           Close    Volume  Dividends  Stock Splits  Capital Gains      SMA_20  \n",
       "7980  577.140015  37912200        0.0           0.0            0.0  568.111807  \n",
       "7981  576.130005  44138100        0.0           0.0            0.0  569.049289  \n",
       "7982  579.580017  42226800        0.0           0.0            0.0  570.013718  "
      ]
     },
     "execution_count": 13,
     "metadata": {},
     "output_type": "execute_result"
    }
   ],
   "source": [
    "data = simple_moving_average(data, 20)\n",
    "data.tail(3)"
   ]
  }
 ],
 "metadata": {
  "kernelspec": {
   "display_name": "TradingModels",
   "language": "python",
   "name": "python3"
  },
  "language_info": {
   "codemirror_mode": {
    "name": "ipython",
    "version": 3
   },
   "file_extension": ".py",
   "mimetype": "text/x-python",
   "name": "python",
   "nbconvert_exporter": "python",
   "pygments_lexer": "ipython3",
   "version": "3.12.3"
  }
 },
 "nbformat": 4,
 "nbformat_minor": 2
}
