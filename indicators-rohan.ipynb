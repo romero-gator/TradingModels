{
 "cells": [
  {
   "cell_type": "code",
   "execution_count": 4,
   "metadata": {},
   "outputs": [],
   "source": [
    "import pandas as pd\n",
    "import numpy as np\n",
    "import glob\n",
    "import os"
   ]
  },
  {
   "cell_type": "code",
   "execution_count": 5,
   "metadata": {},
   "outputs": [],
   "source": [
    "def add_rsi_table(inp, window:int=14):\n",
    "    if isinstance(inp, str):\n",
    "        df = pd.read_csv(inp)\n",
    "    elif isinstance(inp, pd.DataFrame):\n",
    "        df = inp\n",
    "    else:\n",
    "        print('please input path to csv or actual dataframe!')\n",
    "    # Calculate daily price changes\n",
    "    delta = df['Close'].diff()\n",
    "    \n",
    "    # Separate gains and losses\n",
    "    gain = delta.where(delta > 0, 0)\n",
    "    loss = -delta.where(delta < 0, 0)\n",
    "    \n",
    "    # Calculate average gain and loss using the rolling window\n",
    "    avg_gain = gain.rolling(window=window, min_periods=1).mean()\n",
    "    avg_loss = loss.rolling(window=window, min_periods=1).mean()\n",
    "    \n",
    "    # Calculate the Relative Strength (RS)\n",
    "    rs = avg_gain / avg_loss\n",
    "    \n",
    "    # Calculate the RSI\n",
    "    rsi = 100 - (100 / (1 + rs))\n",
    "    df['RSI_14'] = rsi\n",
    "\n",
    "    return df\n"
   ]
  },
  {
   "cell_type": "code",
   "execution_count": 8,
   "metadata": {},
   "outputs": [],
   "source": [
    "for path in glob.glob('data/original/*'):\n",
    "    if os.path.splitext(path)[-1] != '.csv': continue\n",
    "    df = add_rsi_table(pd.read_csv(path))\n",
    "    df.to_csv('data/mod/{}'.format(os.path.basename(path)))"
   ]
  },
  {
   "cell_type": "code",
   "execution_count": null,
   "metadata": {},
   "outputs": [],
   "source": []
  }
 ],
 "metadata": {
  "kernelspec": {
   "display_name": "ml_env",
   "language": "python",
   "name": "python3"
  },
  "language_info": {
   "codemirror_mode": {
    "name": "ipython",
    "version": 3
   },
   "file_extension": ".py",
   "mimetype": "text/x-python",
   "name": "python",
   "nbconvert_exporter": "python",
   "pygments_lexer": "ipython3",
   "version": "3.10.10"
  }
 },
 "nbformat": 4,
 "nbformat_minor": 2
}
